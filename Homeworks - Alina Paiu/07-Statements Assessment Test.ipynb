{
 "cells": [
  {
   "cell_type": "markdown",
   "metadata": {},
   "source": [
    "___\n",
    "\n",
    "<a href='https://www.udemy.com/user/joseportilla/'><img src='../Pierian_Data_Logo.png'/></a>\n",
    "___\n",
    "<center><em>Content Copyright by Pierian Data</em></center>"
   ]
  },
  {
   "cell_type": "markdown",
   "metadata": {
    "collapsed": true
   },
   "source": [
    "# Statements Assessment Test\n",
    "Let's test your knowledge!"
   ]
  },
  {
   "cell_type": "markdown",
   "metadata": {},
   "source": [
    "_____\n",
    "**Use <code>for</code>, .split(), and <code>if</code> to create a Statement that will print out words that start with 's':**"
   ]
  },
  {
   "cell_type": "code",
   "execution_count": 112,
   "metadata": {},
   "outputs": [],
   "source": [
    "st = 'Sam Print only the words that start with s in this sentence'"
   ]
  },
  {
   "cell_type": "code",
   "execution_count": 116,
   "metadata": {},
   "outputs": [
    {
     "name": "stdout",
     "output_type": "stream",
     "text": [
      "Sam\n",
      "start\n",
      "s\n",
      "sentence\n"
     ]
    }
   ],
   "source": [
    "for x in st.split():\n",
    "    if x[0].lower() == 's':\n",
    "        print(x)"
   ]
  },
  {
   "cell_type": "markdown",
   "metadata": {},
   "source": [
    "______\n",
    "**Use range() to print all the even numbers from 0 to 10.**"
   ]
  },
  {
   "cell_type": "code",
   "execution_count": 45,
   "metadata": {},
   "outputs": [
    {
     "name": "stdout",
     "output_type": "stream",
     "text": [
      "0\n",
      "2\n",
      "4\n",
      "6\n",
      "8\n",
      "10\n"
     ]
    }
   ],
   "source": [
    "#Method 1\n",
    "for x in range(0,11):\n",
    "    if x%2 == 0:\n",
    "        print(x)"
   ]
  },
  {
   "cell_type": "code",
   "execution_count": 117,
   "metadata": {},
   "outputs": [
    {
     "name": "stdout",
     "output_type": "stream",
     "text": [
      "0\n",
      "2\n",
      "4\n",
      "6\n",
      "8\n",
      "10\n"
     ]
    }
   ],
   "source": [
    "for x in range(0,11,2):\n",
    "        print(x)"
   ]
  },
  {
   "cell_type": "code",
   "execution_count": 77,
   "metadata": {},
   "outputs": [
    {
     "data": {
      "text/plain": [
       "[0, 2, 4, 6, 8, 10]"
      ]
     },
     "execution_count": 77,
     "metadata": {},
     "output_type": "execute_result"
    }
   ],
   "source": [
    "#Method 2 - List comprehension\n",
    "[x for x in range(0,11) if x%2 == 0]"
   ]
  },
  {
   "cell_type": "markdown",
   "metadata": {},
   "source": [
    "___\n",
    "**Use a List Comprehension to create a list of all numbers between 1 and 50 that are divisible by 3.**"
   ]
  },
  {
   "cell_type": "code",
   "execution_count": 75,
   "metadata": {},
   "outputs": [
    {
     "data": {
      "text/plain": [
       "[3, 6, 9, 12, 15, 18, 21, 24, 27, 30, 33, 36, 39, 42, 45, 48]"
      ]
     },
     "execution_count": 75,
     "metadata": {},
     "output_type": "execute_result"
    }
   ],
   "source": [
    "#Code in this cell\n",
    "[num for num in range(1,51) if num%3 == 0]"
   ]
  },
  {
   "cell_type": "markdown",
   "metadata": {},
   "source": [
    "_____\n",
    "**Go through the string below and if the length of a word is even print \"even!\"**"
   ]
  },
  {
   "cell_type": "code",
   "execution_count": null,
   "metadata": {
    "collapsed": true
   },
   "outputs": [],
   "source": [
    "st = 'Print every word in this sentence that has an even number of letters'"
   ]
  },
  {
   "cell_type": "code",
   "execution_count": 121,
   "metadata": {},
   "outputs": [
    {
     "name": "stdout",
     "output_type": "stream",
     "text": [
      "only is even!\n",
      "that is even!\n",
      "with is even!\n",
      "in is even!\n",
      "this is even!\n",
      "sentence is even!\n"
     ]
    }
   ],
   "source": [
    "#Code in this cell\n",
    "for string in st.split():\n",
    "    if len(string)%2 == 0:\n",
    "        print(string + ' is even!')"
   ]
  },
  {
   "cell_type": "markdown",
   "metadata": {},
   "source": [
    "____\n",
    "**Write a program that prints the integers from 1 to 100. But for multiples of three print \"Fizz\" instead of the number, and for the multiples of five print \"Buzz\". For numbers which are multiples of both three and five print \"FizzBuzz\".**"
   ]
  },
  {
   "cell_type": "code",
   "execution_count": 135,
   "metadata": {},
   "outputs": [
    {
     "name": "stdout",
     "output_type": "stream",
     "text": [
      "no match\n",
      "no match\n",
      "3 Fizz\n",
      "no match\n",
      "5 Buzz\n",
      "6 Fizz\n",
      "no match\n",
      "no match\n",
      "9 Fizz\n",
      "10 Buzz\n",
      "no match\n",
      "12 Fizz\n",
      "no match\n",
      "no match\n",
      "15 FizzBuzz\n",
      "no match\n",
      "no match\n",
      "18 Fizz\n",
      "no match\n",
      "20 Buzz\n",
      "21 Fizz\n",
      "no match\n",
      "no match\n",
      "24 Fizz\n",
      "25 Buzz\n",
      "no match\n",
      "27 Fizz\n",
      "no match\n",
      "no match\n",
      "30 FizzBuzz\n",
      "no match\n",
      "no match\n",
      "33 Fizz\n",
      "no match\n",
      "35 Buzz\n",
      "36 Fizz\n",
      "no match\n",
      "no match\n",
      "39 Fizz\n",
      "40 Buzz\n",
      "no match\n",
      "42 Fizz\n",
      "no match\n",
      "no match\n",
      "45 FizzBuzz\n",
      "no match\n",
      "no match\n",
      "48 Fizz\n",
      "no match\n",
      "50 Buzz\n",
      "51 Fizz\n",
      "no match\n",
      "no match\n",
      "54 Fizz\n",
      "55 Buzz\n",
      "no match\n",
      "57 Fizz\n",
      "no match\n",
      "no match\n",
      "60 FizzBuzz\n",
      "no match\n",
      "no match\n",
      "63 Fizz\n",
      "no match\n",
      "65 Buzz\n",
      "66 Fizz\n",
      "no match\n",
      "no match\n",
      "69 Fizz\n",
      "70 Buzz\n",
      "no match\n",
      "72 Fizz\n",
      "no match\n",
      "no match\n",
      "75 FizzBuzz\n",
      "no match\n",
      "no match\n",
      "78 Fizz\n",
      "no match\n",
      "80 Buzz\n",
      "81 Fizz\n",
      "no match\n",
      "no match\n",
      "84 Fizz\n",
      "85 Buzz\n",
      "no match\n",
      "87 Fizz\n",
      "no match\n",
      "no match\n",
      "90 FizzBuzz\n",
      "no match\n",
      "no match\n",
      "93 Fizz\n",
      "no match\n",
      "95 Buzz\n",
      "96 Fizz\n",
      "no match\n",
      "no match\n",
      "99 Fizz\n",
      "100 Buzz\n"
     ]
    }
   ],
   "source": [
    "#Code in this cell\n",
    "for x in range(1, 101):\n",
    "#if condition = True loop starts from the start for another number\n",
    "    if x%3 == 0 and x%5 == 0:\n",
    "        print(str(x) + ' FizzBuzz')\n",
    "    elif x%5 == 0:\n",
    "        print(str(x) + ' Buzz')\n",
    "    elif x%3 == 0:\n",
    "        print(str(x) + ' Fizz')\n",
    "    else:\n",
    "        print('no match')\n"
   ]
  },
  {
   "cell_type": "markdown",
   "metadata": {},
   "source": [
    "____\n",
    "**Use List Comprehension to create a list of the first letters of every word in the string below:**"
   ]
  },
  {
   "cell_type": "code",
   "execution_count": 109,
   "metadata": {},
   "outputs": [],
   "source": [
    "st = 'Create a list of the first letters of every word in this string'"
   ]
  },
  {
   "cell_type": "code",
   "execution_count": 110,
   "metadata": {},
   "outputs": [
    {
     "data": {
      "text/plain": [
       "['C', 'a', 'l', 'o', 't', 'f', 'l', 'o', 'e', 'w', 'i', 't', 's']"
      ]
     },
     "execution_count": 110,
     "metadata": {},
     "output_type": "execute_result"
    }
   ],
   "source": [
    "#Code in this cell\n",
    "[string[0] for string in st.split()]"
   ]
  },
  {
   "cell_type": "markdown",
   "metadata": {},
   "source": [
    "### Great Job!"
   ]
  }
 ],
 "metadata": {
  "kernelspec": {
   "display_name": "Python 3 (ipykernel)",
   "language": "python",
   "name": "python3"
  },
  "language_info": {
   "codemirror_mode": {
    "name": "ipython",
    "version": 3
   },
   "file_extension": ".py",
   "mimetype": "text/x-python",
   "name": "python",
   "nbconvert_exporter": "python",
   "pygments_lexer": "ipython3",
   "version": "3.9.7"
  }
 },
 "nbformat": 4,
 "nbformat_minor": 1
}
